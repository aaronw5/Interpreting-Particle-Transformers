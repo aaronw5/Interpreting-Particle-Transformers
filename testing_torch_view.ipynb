{
 "cells": [
  {
   "cell_type": "code",
   "execution_count": 8,
   "id": "e38eefbf",
   "metadata": {},
   "outputs": [],
   "source": [
    "import torch\n",
    "import numpy as np\n",
    "import awkward as ak"
   ]
  },
  {
   "cell_type": "code",
   "execution_count": 9,
   "id": "12c0bb4f",
   "metadata": {},
   "outputs": [
    {
     "name": "stdout",
     "output_type": "stream",
     "text": [
      "tensor([[[-0.2395,  0.0746],\n",
      "         [-0.4064,  0.4904]],\n",
      "\n",
      "        [[-0.3990,  0.6652],\n",
      "         [ 0.4506,  0.0178]],\n",
      "\n",
      "        [[ 0.6100, -0.8841],\n",
      "         [ 0.0131,  0.9423]],\n",
      "\n",
      "        [[ 0.4067,  1.0934],\n",
      "         [ 0.8623,  1.4452]],\n",
      "\n",
      "        [[-0.2818, -0.9038],\n",
      "         [ 2.2496, -0.3674]],\n",
      "\n",
      "        [[ 0.1716, -1.0742],\n",
      "         [-0.1831,  1.4085]]])\n"
     ]
    }
   ],
   "source": [
    "tensor = torch.randn((6, 2, 2), dtype=torch.float32)\n",
    "tensor_as_np = tensor.numpy()\n",
    "print(tensor)"
   ]
  },
  {
   "cell_type": "code",
   "execution_count": 13,
   "id": "d3160d64",
   "metadata": {},
   "outputs": [
    {
     "name": "stdout",
     "output_type": "stream",
     "text": [
      "tensor([[[[-0.2395,  0.0746],\n",
      "          [-0.4064,  0.4904]],\n",
      "\n",
      "         [[-0.3990,  0.6652],\n",
      "          [ 0.4506,  0.0178]]],\n",
      "\n",
      "\n",
      "        [[[ 0.6100, -0.8841],\n",
      "          [ 0.0131,  0.9423]],\n",
      "\n",
      "         [[ 0.4067,  1.0934],\n",
      "          [ 0.8623,  1.4452]]],\n",
      "\n",
      "\n",
      "        [[[-0.2818, -0.9038],\n",
      "          [ 2.2496, -0.3674]],\n",
      "\n",
      "         [[ 0.1716, -1.0742],\n",
      "          [-0.1831,  1.4085]]]])\n"
     ]
    }
   ],
   "source": [
    "tensor_rs = tensor.view(3, 2, 2, 2)\n",
    "as_np_rs = np.split(tensor_as_np, indices_or_sections=2, axis=0)\n",
    "\n",
    "print(tensor_rs)"
   ]
  },
  {
   "cell_type": "code",
   "execution_count": 12,
   "id": "e94b54b2",
   "metadata": {},
   "outputs": [
    {
     "name": "stdout",
     "output_type": "stream",
     "text": [
      "[array([[[-0.23952992,  0.07458278],\n",
      "        [-0.40642482,  0.49038598]],\n",
      "\n",
      "       [[-0.39895728,  0.6651756 ],\n",
      "        [ 0.45062503,  0.0177817 ]],\n",
      "\n",
      "       [[ 0.61001503, -0.8840833 ],\n",
      "        [ 0.01308374,  0.9423151 ]]], dtype=float32), array([[[ 0.40666643,  1.0933518 ],\n",
      "        [ 0.86231655,  1.44523   ]],\n",
      "\n",
      "       [[-0.28181142, -0.90381205],\n",
      "        [ 2.2495642 , -0.3673698 ]],\n",
      "\n",
      "       [[ 0.17160347, -1.074218  ],\n",
      "        [-0.18311189,  1.4085007 ]]], dtype=float32)]\n"
     ]
    }
   ],
   "source": [
    "print(as_np_rs)"
   ]
  }
 ],
 "metadata": {
  "kernelspec": {
   "display_name": "tensorflow",
   "language": "python",
   "name": "python3"
  },
  "language_info": {
   "codemirror_mode": {
    "name": "ipython",
    "version": 3
   },
   "file_extension": ".py",
   "mimetype": "text/x-python",
   "name": "python",
   "nbconvert_exporter": "python",
   "pygments_lexer": "ipython3",
   "version": "3.7.16"
  }
 },
 "nbformat": 4,
 "nbformat_minor": 5
}
