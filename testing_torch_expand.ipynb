{
 "cells": [
  {
   "cell_type": "code",
   "execution_count": 1,
   "id": "cd965493",
   "metadata": {},
   "outputs": [],
   "source": [
    "import torch"
   ]
  },
  {
   "cell_type": "code",
   "execution_count": 5,
   "id": "2c77e58b",
   "metadata": {},
   "outputs": [],
   "source": [
    "ex_attn_mask = torch.randn(48, 1, 128)\n",
    "\n",
    "ex_q = torch.randn(48, 128, 128)\n",
    "ex_k = torch.randn(48, 128, 128)\n",
    "\n",
    "pre_softmax_interaction = ex_attn_mask\n",
    "pre_softmax_attention = torch.bmm(ex_q, ex_k.transpose(-2, -1))"
   ]
  },
  {
   "cell_type": "code",
   "execution_count": 6,
   "id": "0e966586",
   "metadata": {},
   "outputs": [],
   "source": [
    "attn_output_weights = torch.baddbmm(input=ex_attn_mask, batch1=ex_q, batch2=ex_k.transpose(-2, -1))"
   ]
  },
  {
   "cell_type": "code",
   "execution_count": 7,
   "id": "cc271751",
   "metadata": {},
   "outputs": [],
   "source": [
    "# first assert that pre_softmax_attention == torch.baddbmm when beta=0\n",
    "assert torch.all(pre_softmax_attention == torch.baddbmm(torch.zeros_like(pre_softmax_attention), ex_q, ex_k.transpose(-2, -1), beta=0))"
   ]
  },
  {
   "cell_type": "code",
   "execution_count": 10,
   "id": "3df1a991",
   "metadata": {},
   "outputs": [
    {
     "name": "stdout",
     "output_type": "stream",
     "text": [
      "torch.Size([48, 128, 128])\n"
     ]
    }
   ],
   "source": [
    "# stretch the interaction so that we call it the same as the attention\n",
    "pre_softmax_interaction_exp = pre_softmax_interaction.expand(-1, 128, -1)\n",
    "\n",
    "print(pre_softmax_interaction_exp.shape)"
   ]
  }
 ],
 "metadata": {
  "kernelspec": {
   "display_name": "tensorflow",
   "language": "python",
   "name": "python3"
  },
  "language_info": {
   "codemirror_mode": {
    "name": "ipython",
    "version": 3
   },
   "file_extension": ".py",
   "mimetype": "text/x-python",
   "name": "python",
   "nbconvert_exporter": "python",
   "pygments_lexer": "ipython3",
   "version": "3.7.16"
  }
 },
 "nbformat": 4,
 "nbformat_minor": 5
}
